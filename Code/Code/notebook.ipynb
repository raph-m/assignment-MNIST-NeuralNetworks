{
 "cells": [
  {
   "cell_type": "code",
   "execution_count": 5,
   "metadata": {},
   "outputs": [],
   "source": [
    "import numpy as np\n",
    "\n",
    "def sigmoid(z):\n",
    "\n",
    "    # SIGMOID returns sigmoid function evaluated at z\n",
    "    g = np.zeros(np.shape(z))\n",
    "\n",
    "    print(np.shape(z))\n",
    "    for a in range(len(g)):\n",
    "        print(a)\n",
    "        g[a] = 1/(1+np.exp(-z[a]))\n",
    "        print(g[a])\n",
    "\n",
    "    # ============================= TODO ================================\n",
    "    # Instructions: Compute sigmoid function evaluated at each value of z.\n",
    "\n",
    "    return g"
   ]
  },
  {
   "cell_type": "code",
   "execution_count": 6,
   "metadata": {},
   "outputs": [
    {
     "name": "stdout",
     "output_type": "stream",
     "text": [
      "(5,)\n",
      "0\n",
      "0.73105857863\n",
      "1\n",
      "0.377540668798\n",
      "2\n",
      "0.5\n",
      "3\n",
      "0.622459331202\n",
      "4\n",
      "0.73105857863\n",
      "Sigmoid evaluated at [1 -0.5 0 0.5 1]:  \n",
      "[ 0.73105858  0.37754067  0.5         0.62245933  0.73105858]\n"
     ]
    }
   ],
   "source": [
    "g = sigmoid(np.array([1, -0.5, 0,  0.5, 1]))\n",
    "print(\"Sigmoid evaluated at [1 -0.5 0 0.5 1]:  \")\n",
    "print(g)"
   ]
  },
  {
   "cell_type": "code",
   "execution_count": 10,
   "metadata": {},
   "outputs": [],
   "source": [
    "def sigmoidGradient(z):\n",
    "\n",
    "    # SIGMOIDGRADIENT returns the gradient of the sigmoid function evaluated at z\n",
    "    s = sigmoid(z)\n",
    "    g = s*(1-s)\n",
    "    # =========================== TODO ==================================\n",
    "    # Instructions: Compute the gradient of the sigmoid function evaluated at\n",
    "    #               each value of z.\n",
    "    \n",
    "    return g\n"
   ]
  },
  {
   "cell_type": "code",
   "execution_count": null,
   "metadata": {},
   "outputs": [
    {
     "name": "stdout",
     "output_type": "stream",
     "text": [
      "\n",
      "Evaluating Sigmoid Gradient function ...\n",
      "\n",
      "(5,)\n",
      "0\n",
      "0.73105857863\n",
      "1\n",
      "0.377540668798\n",
      "2\n",
      "0.5\n",
      "3\n",
      "0.622459331202\n",
      "4\n",
      "0.73105857863\n",
      "Sigmoid Gradient evaluated at [1 -0.5 0 0.5 1]:  \n",
      "[ 0.19661193  0.23500371  0.25        0.23500371  0.19661193]\n"
     ]
    }
   ],
   "source": [
    "print(\"\\nEvaluating Sigmoid Gradient function ...\\n\")\n",
    "\n",
    "g = sigmoidGradient(np.array([1, -0.5, 0,  0.5, 1]))\n",
    "print(\"Sigmoid Gradient evaluated at [1 -0.5 0 0.5 1]:  \")\n",
    "print(g)\n",
    "\n",
    "input('\\nProgram paused. Press enter to continue!!!')"
   ]
  },
  {
   "cell_type": "code",
   "execution_count": null,
   "metadata": {},
   "outputs": [],
   "source": []
  }
 ],
 "metadata": {
  "kernelspec": {
   "display_name": "Python 3",
   "language": "python",
   "name": "python3"
  },
  "language_info": {
   "codemirror_mode": {
    "name": "ipython",
    "version": 3
   },
   "file_extension": ".py",
   "mimetype": "text/x-python",
   "name": "python",
   "nbconvert_exporter": "python",
   "pygments_lexer": "ipython3",
   "version": "3.5.2"
  }
 },
 "nbformat": 4,
 "nbformat_minor": 2
}
